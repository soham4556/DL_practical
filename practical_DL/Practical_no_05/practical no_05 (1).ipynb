{
 "cells": [
  {
   "cell_type": "code",
   "execution_count": 2,
   "id": "db22c7b6-0e0e-453c-b0a2-0ff0559161a4",
   "metadata": {},
   "outputs": [],
   "source": [
    "import numpy as np\n",
    "import re\n",
    "import matplotlib.pyplot as plt\n",
    "\n",
    "# Define the sentences\n",
    "sentences = \"\"\"We are about to study the idea of a computational process. Computational processes are abstract beings that inhabit computers.\n",
    "As they evolve, processes manipulate other abstract things called data.     \n",
    "The evolution of a process is directed by a pattern of rules\n",
    "called a program. People create programs to direct processes. In effect, we conjure the spirits of the computer with our spells.\"\"\"\n",
    "\n"
   ]
  },
  {
   "cell_type": "code",
   "execution_count": 3,
   "id": "2c081035-1618-4ea5-bca1-e30813109fc3",
   "metadata": {},
   "outputs": [],
   "source": [
    "# Clean Data\n",
    "# Remove special characters\n",
    "sentences = re.sub('[^A-Za-z0-9]+', ' ', sentences)\n",
    "\n",
    "# Remove 1-letter words\n",
    "sentences = re.sub(r'\\b\\w\\b', '', sentences).strip()\n",
    "\n",
    "# Lowercase all characters\n",
    "sentences = sentences.lower()\n",
    "\n"
   ]
  },
  {
   "cell_type": "code",
   "execution_count": 4,
   "id": "c7002f58-9e48-4251-9a0e-8191fa7e5931",
   "metadata": {},
   "outputs": [
    {
     "data": {
      "image/png": "[encoded data removed]",
      "text/plain": [
       "<Figure size 640x480 with 1 Axes>"
      ]
     },
     "metadata": {},
     "output_type": "display_data"
    }
   ],
   "source": [
    "# Create a list of words and a vocabulary\n",
    "words = sentences.split()\n",
    "vocab = set(words)\n",
    "\n",
    "# Define parameters\n",
    "vocab_size = len(vocab)\n",
    "embed_dim = 10\n",
    "context_size = 2\n",
    "\n",
    "# Create dictionaries for word indexing\n",
    "word_to_ix = {word: i for i, word in enumerate(vocab)}\n",
    "ix_to_word = {i: word for i, word in enumerate(vocab)}\n",
    "\n",
    "# Prepare data as [(context), target]\n",
    "data = []\n",
    "for i in range(context_size, len(words) - context_size):\n",
    "    context = [words[i - context_size], words[i - 1], words[i + 1], words[i + context_size]]\n",
    "    target = words[i]\n",
    "    data.append((context, target))\n",
    "\n",
    "# Initialize embeddings\n",
    "embeddings = np.random.random_sample((vocab_size, embed_dim))\n",
    "\n",
    "# Linear model\n",
    "def linear(m, theta):\n",
    "    w = theta\n",
    "    return m.dot(w)\n",
    "\n",
    "# Log softmax and NLL loss\n",
    "def log_softmax(x):\n",
    "    e_x = np.exp(x - np.max(x))\n",
    "    return np.log(e_x / e_x.sum())\n",
    "\n",
    "def NLLLoss(logs, targets):\n",
    "    out = logs[range(len(targets)), targets]\n",
    "    return -out.sum() / len(out)\n",
    "\n",
    "def log_softmax_crossentropy_with_logits(logits, target):\n",
    "    out = np.zeros_like(logits)\n",
    "    out[np.arange(len(logits)), target] = 1\n",
    "    softmax = np.exp(logits) / np.exp(logits).sum(axis=-1, keepdims=True)\n",
    "    return (-out + softmax) / logits.shape[0]\n",
    "\n",
    "# Forward function\n",
    "def forward(context_idxs, theta):\n",
    "    m = embeddings[context_idxs].reshape(1, -1)\n",
    "    n = linear(m, theta)\n",
    "    o = log_softmax(n)\n",
    "    return m, n, o\n",
    "\n",
    "# Backward function\n",
    "def backward(preds, theta, target_idxs):\n",
    "    m, n, o = preds\n",
    "    dlog = log_softmax_crossentropy_with_logits(n, target_idxs)\n",
    "    dw = m.T.dot(dlog)\n",
    "    return dw\n",
    "\n",
    "# Optimize function\n",
    "def optimize(theta, grad, lr=0.03):\n",
    "    theta -= grad * lr\n",
    "    return theta\n",
    "\n",
    "# Training the model\n",
    "theta = np.random.uniform(-1, 1, (2 * context_size * embed_dim, vocab_size))\n",
    "epoch_losses = {}\n",
    "\n",
    "for epoch in range(80):\n",
    "    losses = []\n",
    "    for context, target in data:\n",
    "        context_idxs = np.array([word_to_ix[w] for w in context])\n",
    "        preds = forward(context_idxs, theta)\n",
    "        target_idxs = np.array([word_to_ix[target]])\n",
    "        loss = NLLLoss(preds[-1], target_idxs)\n",
    "        losses.append(loss)\n",
    "\n",
    "        grad = backward(preds, theta, target_idxs)\n",
    "        theta = optimize(theta, grad, lr=0.03)\n",
    "\n",
    "    epoch_losses[epoch] = losses\n",
    "\n",
    "# Plot loss/epoch\n",
    "ix = np.arange(0, 80)\n",
    "fig = plt.figure()\n",
    "fig.suptitle('Epoch/Losses', fontsize=20)\n",
    "plt.plot(ix, [epoch_losses[i][0] for i in ix])\n",
    "plt.xlabel('Epochs', fontsize=12)\n",
    "plt.ylabel('Losses', fontsize=12)\n",
    "plt.show()\n",
    "\n",
    "# Predict function\n",
    "def predict(words):\n",
    "    context_idxs = np.array([word_to_ix[w] for w in words])\n",
    "    preds = forward(context_idxs, theta)\n",
    "    word = ix_to_word[np.argmax(preds[-1])]\n",
    "    return word\n",
    "\n"
   ]
  },
  {
   "cell_type": "code",
   "execution_count": 5,
   "id": "05a8b82e-2d05-487f-87a6-b2979d8d741d",
   "metadata": {},
   "outputs": [
    {
     "name": "stdout",
     "output_type": "stream",
     "text": [
      "about\n",
      "Accuracy: 1.0\n"
     ]
    }
   ],
   "source": [
    "# Example prediction\n",
    "print(predict(['we', 'are', 'to', 'study']))  # Example input\n",
    "\n",
    "# Accuracy function\n",
    "def accuracy():\n",
    "    wrong = 0\n",
    "    for context, target in data:\n",
    "        if predict(context) != target:\n",
    "            wrong += 1\n",
    "    return 1 - (wrong / len(data))\n",
    "\n",
    "# Calculate accuracy\n",
    "print(f'Accuracy: {accuracy()}')\n"
   ]
  },
  {
   "cell_type": "code",
   "execution_count": null,
   "id": "aac93fa1-bcca-4000-abde-1371a723d804",
   "metadata": {},
   "outputs": [],
   "source": []
  }
 ],
 "metadata": {
  "kernelspec": {
   "display_name": "Python 3 (ipykernel)",
   "language": "python",
   "name": "python3"
  },
  "language_info": {
   "codemirror_mode": {
    "name": "ipython",
    "version": 3
   },
   "file_extension": ".py",
   "mimetype": "text/x-python",
   "name": "python",
   "nbconvert_exporter": "python",
   "pygments_lexer": "ipython3",
   "version": "3.10.13"
  }
 },
 "nbformat": 4,
 "nbformat_minor": 5
}
