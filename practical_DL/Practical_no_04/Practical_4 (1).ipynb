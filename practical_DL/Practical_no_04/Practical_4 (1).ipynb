{
 "cells": [
  {
   "cell_type": "code",
   "execution_count": 3,
   "id": "c6463e1f-ff66-4e44-a11b-fba0030cab92",
   "metadata": {},
   "outputs": [],
   "source": [
    "import pandas as pd\n",
    "import numpy as np\n",
    "import random as rn\n",
    "\n"
   ]
  },
  {
   "cell_type": "code",
   "execution_count": 4,
   "id": "a6ea5bf6-880b-413b-ac54-7d1ae8815876",
   "metadata": {},
   "outputs": [],
   "source": [
    "# Load the dataset\n",
    "df = pd.read_csv('creditcard.csv')\n",
    "\n"
   ]
  },
  {
   "cell_type": "code",
   "execution_count": 5,
   "id": "90a965eb-ef85-4d19-b801-51ad77774a7c",
   "metadata": {},
   "outputs": [],
   "source": [
    "# Manual parameters\n",
    "RANDOM_SEED = 42\n",
    "TRAINING_SAMPLE = 200000\n",
    "VALIDATE_SIZE = 0.2\n",
    "RATIO_TO_FRAUD = 15\n"
   ]
  },
  {
   "cell_type": "code",
   "execution_count": 6,
   "id": "95a70a24-c7de-4137-ad66-0ac3c59d035f",
   "metadata": {},
   "outputs": [],
   "source": [
    "\n",
    "# Setting random seeds for reproducibility\n",
    "np.random.seed(RANDOM_SEED)\n",
    "rn.seed(RANDOM_SEED)\n",
    "\n",
    "# Convert column names to lower case and rename the 'Class' column\n",
    "df.columns = map(str.lower, df.columns)\n",
    "df.rename(columns={'class': 'label'}, inplace=True)\n",
    "\n"
   ]
  },
  {
   "cell_type": "code",
   "execution_count": 7,
   "id": "82b2c6e6-8f1f-433d-ba9d-ec84508119c6",
   "metadata": {},
   "outputs": [
    {
     "name": "stdout",
     "output_type": "stream",
     "text": [
      "   time        v1        v2        v3        v4        v5        v6        v7  \\\n",
      "0   0.0 -1.359807 -0.072781  2.536347  1.378155 -0.338321  0.462388  0.239599   \n",
      "1   0.0  1.191857  0.266151  0.166480  0.448154  0.060018 -0.082361 -0.078803   \n",
      "2   1.0 -1.358354 -1.340163  1.773209  0.379780 -0.503198  1.800499  0.791461   \n",
      "3   1.0 -0.966272 -0.185226  1.792993 -0.863291 -0.010309  1.247203  0.237609   \n",
      "4   2.0 -1.158233  0.877737  1.548718  0.403034 -0.407193  0.095921  0.592941   \n",
      "\n",
      "         v8        v9  ...       v21       v22       v23       v24       v25  \\\n",
      "0  0.098698  0.363787  ... -0.018307  0.277838 -0.110474  0.066928  0.128539   \n",
      "1  0.085102 -0.255425  ... -0.225775 -0.638672  0.101288 -0.339846  0.167170   \n",
      "2  0.247676 -1.514654  ...  0.247998  0.771679  0.909412 -0.689281 -0.327642   \n",
      "3  0.377436 -1.387024  ... -0.108300  0.005274 -0.190321 -1.175575  0.647376   \n",
      "4 -0.270533  0.817739  ... -0.009431  0.798278 -0.137458  0.141267 -0.206010   \n",
      "\n",
      "        v26       v27       v28  amount  label  \n",
      "0 -0.189115  0.133558 -0.021053  149.62      0  \n",
      "1  0.125895 -0.008983  0.014724    2.69      0  \n",
      "2 -0.139097 -0.055353 -0.059752  378.66      0  \n",
      "3 -0.221929  0.062723  0.061458  123.50      0  \n",
      "4  0.502292  0.219422  0.215153   69.99      0  \n",
      "\n",
      "[5 rows x 31 columns]\n"
     ]
    }
   ],
   "source": [
    "# Print first 5 rows to get an initial impression of the data\n",
    "print(df.head())\n",
    "\n",
    "# Add a negligible amount to avoid taking the log of 0\n",
    "df['log10_amount'] = np.log10(df['amount'] + 0.00001)\n",
    "\n",
    "# Dropping redundant columns\n",
    "df = df.drop(['time', 'amount'], axis=1)\n",
    "\n",
    "# Splitting by class\n",
    "fraud = df[df.label == 1]\n",
    "clean = df[df.label == 0]\n",
    "\n"
   ]
  },
  {
   "cell_type": "code",
   "execution_count": 8,
   "id": "717db7fe-d50b-4eee-9355-f2d62a053305",
   "metadata": {},
   "outputs": [],
   "source": [
    "# Undersample clean transactions\n",
    "clean_undersampled = clean.sample(int(len(fraud) * RATIO_TO_FRAUD), random_state=RANDOM_SEED)\n",
    "\n",
    "# Concatenate with fraud transactions into a single dataframe\n",
    "visualisation_initial = pd.concat([fraud, clean_undersampled])\n",
    "\n"
   ]
  },
  {
   "cell_type": "code",
   "execution_count": 9,
   "id": "c5f87bea-05b0-40bc-858f-5be2b6101438",
   "metadata": {},
   "outputs": [],
   "source": [
    "\n",
    "# Isolate features from labels\n",
    "features = visualisation_initial.drop('label', axis=1).values\n",
    "labels = visualisation_initial['label'].values\n",
    "\n",
    "# Keep the label field at the back\n",
    "df = df[[col for col in df.columns if col not in ['label', 'log10_amount']] + ['log10_amount', 'label']]"
   ]
  },
  {
   "cell_type": "code",
   "execution_count": 10,
   "id": "c9d9e8f0-b479-4428-847b-de37792590e7",
   "metadata": {},
   "outputs": [],
   "source": [
    "from sklearn.model_selection import train_test_split\n",
    "\n",
    "# Split the dataset into training and validation sets\n",
    "X_train, X_val, y_train, y_val = train_test_split(\n",
    "    features, labels, \n",
    "    test_size=VALIDATE_SIZE, \n",
    "    random_state=RANDOM_SEED\n",
    ")\n"
   ]
  },
  {
   "cell_type": "code",
   "execution_count": 11,
   "id": "18e9339d-3567-45c5-9289-fe6b92d8133a",
   "metadata": {},
   "outputs": [],
   "source": [
    "from sklearn.preprocessing import StandardScaler\n",
    "\n",
    "scaler = StandardScaler()\n",
    "X_train_scaled = scaler.fit_transform(X_train)\n",
    "X_val_scaled = scaler.transform(X_val)\n"
   ]
  },
  {
   "cell_type": "code",
   "execution_count": 12,
   "id": "73967ee3-e256-40f7-9916-a8651aea0eaa",
   "metadata": {},
   "outputs": [
    {
     "name": "stdout",
     "output_type": "stream",
     "text": [
      "[[1465    1]\n",
      " [  20   89]]\n",
      "              precision    recall  f1-score   support\n",
      "\n",
      "           0       0.99      1.00      0.99      1466\n",
      "           1       0.99      0.82      0.89       109\n",
      "\n",
      "    accuracy                           0.99      1575\n",
      "   macro avg       0.99      0.91      0.94      1575\n",
      "weighted avg       0.99      0.99      0.99      1575\n",
      "\n"
     ]
    }
   ],
   "source": [
    "from sklearn.ensemble import RandomForestClassifier\n",
    "from sklearn.metrics import classification_report, confusion_matrix\n",
    "\n",
    "# Initialize the model\n",
    "model = RandomForestClassifier(random_state=RANDOM_SEED)\n",
    "\n",
    "# Train the model\n",
    "model.fit(X_train_scaled, y_train)\n",
    "\n",
    "# Make predictions\n",
    "y_pred = model.predict(X_val_scaled)\n",
    "\n",
    "# Evaluate the model\n",
    "print(confusion_matrix(y_val, y_pred))\n",
    "print(classification_report(y_val, y_pred))\n"
   ]
  },
  {
   "cell_type": "code",
   "execution_count": null,
   "id": "a790c68e-55ed-4850-8c6a-b903ff1a9301",
   "metadata": {},
   "outputs": [],
   "source": []
  }
 ],
 "metadata": {
  "kernelspec": {
   "display_name": "Python 3 (ipykernel)",
   "language": "python",
   "name": "python3"
  },
  "language_info": {
   "codemirror_mode": {
    "name": "ipython",
    "version": 3
   },
   "file_extension": ".py",
   "mimetype": "text/x-python",
   "name": "python",
   "nbconvert_exporter": "python",
   "pygments_lexer": "ipython3",
   "version": "3.10.13"
  }
 },
 "nbformat": 4,
 "nbformat_minor": 5
}
