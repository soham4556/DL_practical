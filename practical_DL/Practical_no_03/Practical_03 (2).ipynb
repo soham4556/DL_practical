{
 "cells": [
  {
   "cell_type": "markdown",
   "id": "20c9d5ef-be16-47e5-b5d4-873fe54a769b",
   "metadata": {},
   "source": [
    "## Import Packages"
   ]
  },
  {
   "cell_type": "code",
   "execution_count": 1,
   "id": "eb7b969f-da1d-4780-901c-30e2eea3c7fc",
   "metadata": {},
   "outputs": [],
   "source": [
    "import torch  # PyTorch package\n",
    "import torchvision  # load datasets\n",
    "import torchvision.transforms as transforms  # transform data\n",
    "import torch.nn as nn  # basic building block for neural networks\n",
    "import torch.nn.functional as F  # import convolution functions like ReLU\n",
    "import torch.optim as optim  # optimizer\n",
    "import numpy as np  # for numpy operations\n",
    "import matplotlib.pyplot as plt  # for plotting\n",
    "import time  # for timing the training process"
   ]
  },
  {
   "cell_type": "markdown",
   "id": "bf94b8d0-4511-4286-a534-4f33a0ee02ef",
   "metadata": {},
   "source": [
    "## Check if CUDA is available and use it; otherwise, use CPU and Transform to normalize the images"
   ]
  },
  {
   "cell_type": "code",
   "execution_count": 2,
   "id": "86db8018-b44a-4ea3-a363-be0a101822af",
   "metadata": {},
   "outputs": [],
   "source": [
    "\n",
    "device = torch.device(\"cuda\" if torch.cuda.is_available() else \"cpu\")\n",
    "\n",
    "transform = transforms.Compose([\n",
    "    transforms.ToTensor(),  # convert to tensor object\n",
    "    transforms.Normalize((0.5, 0.5, 0.5), (0.5, 0.5, 0.5))  # mean = 0.5, std = 0.5\n",
    "])\n"
   ]
  },
  {
   "cell_type": "markdown",
   "id": "46258fa4-09b9-46e8-9bd9-48b03d05ee61",
   "metadata": {},
   "source": [
    "## Load training data"
   ]
  },
  {
   "cell_type": "code",
   "execution_count": 3,
   "id": "939fc568-877b-4a57-80f2-c3fae810fc64",
   "metadata": {},
   "outputs": [],
   "source": [
    "import torchvision\n",
    "import torchvision.transforms as transforms\n",
    "import torch\n",
    "\n",
    "# Set batch size and number of workers\n",
    "batch_size = 4\n",
    "num_workers = 2\n",
    "\n",
    "# Define a transform for the dataset\n",
    "transform = transforms.Compose([\n",
    "    transforms.ToTensor(),\n",
    "    transforms.Normalize((0.5,), (0.5,))  # Normalizing for grayscale images\n",
    "])\n",
    "\n",
    "# Load training data\n",
    "trainset = torchvision.datasets.FashionMNIST(root='./data', train=True,\n",
    "                                             download=True, transform=transform)\n",
    "trainloader = torch.utils.data.DataLoader(trainset, batch_size=batch_size,\n",
    "                                          shuffle=True, num_workers=num_workers)\n",
    "\n",
    "# Load test data\n",
    "testset = torchvision.datasets.FashionMNIST(root='./data', train=False,\n",
    "                                            download=True, transform=transform)\n",
    "testloader = torch.utils.data.DataLoader(testset, batch_size=batch_size,\n",
    "                                         shuffle=False, num_workers=num_workers)\n"
   ]
  },
  {
   "cell_type": "markdown",
   "id": "2fcffcba-710f-4065-a2d7-da4b14fe4a8b",
   "metadata": {},
   "source": [
    "## Classes in FashionMNIST"
   ]
  },
  {
   "cell_type": "code",
   "execution_count": 4,
   "id": "aeaca1bd-2cf4-4256-a19a-803e862a06bf",
   "metadata": {},
   "outputs": [
    {
     "data": {
      "image/png": "[encoded data removed]",
      "text/plain": [
       "<Figure size 640x480 with 1 Axes>"
      ]
     },
     "metadata": {},
     "output_type": "display_data"
    },
    {
     "name": "stdout",
     "output_type": "stream",
     "text": [
      "Label: Shirt\n"
     ]
    }
   ],
   "source": [
    "import numpy as np\n",
    "import matplotlib.pyplot as plt\n",
    "\n",
    "# Define the classes for FashionMNIST\n",
    "classes = ('T-shirt/top', 'Trouser', 'Pullover', 'Dress',\n",
    "           'Coat', 'Sandal', 'Shirt', 'Sneaker', 'Bag', 'Ankle boot')\n",
    "\n",
    "def imshow(img):\n",
    "    '''Function to show image'''\n",
    "    img = img / 2 + 0.5  # Unnormalize\n",
    "    npimg = img.numpy()  # Convert to numpy array\n",
    "    plt.imshow(npimg[0], cmap='gray')  # Display the single channel image\n",
    "    plt.axis('off')  # Hide axis\n",
    "    plt.show()\n",
    "\n",
    "# Example usage:\n",
    "# Get a batch of training images\n",
    "dataiter = iter(trainloader)\n",
    "images, labels = next(dataiter)\n",
    "\n",
    "# Show the first image in the batch\n",
    "imshow(images[0])\n",
    "print(f'Label: {classes[labels[0]]}')\n"
   ]
  },
  {
   "cell_type": "markdown",
   "id": "e4941d44-8bc3-4188-9ff3-da41eab77a99",
   "metadata": {},
   "source": [
    "## Get random training images with iter function"
   ]
  },
  {
   "cell_type": "code",
   "execution_count": 5,
   "id": "996cdb91-4f1d-4843-b6c1-50d94535e50e",
   "metadata": {},
   "outputs": [
    {
     "data": {
      "image/png": "[encoded data removed]",
      "text/plain": [
       "<Figure size 640x480 with 1 Axes>"
      ]
     },
     "metadata": {},
     "output_type": "display_data"
    },
    {
     "name": "stdout",
     "output_type": "stream",
     "text": [
      "Coat Shirt Coat Coat\n"
     ]
    }
   ],
   "source": [
    "import torch\n",
    "import torch.nn as nn\n",
    "import torch.nn.functional as F\n",
    "import torchvision\n",
    "\n",
    "# Assuming you've already defined the trainloader and imshow function\n",
    "\n",
    "# Iterate through the training data\n",
    "dataiter = iter(trainloader)\n",
    "images, labels = next(dataiter)\n",
    "\n",
    "# Call function on our images\n",
    "imshow(torchvision.utils.make_grid(images))\n",
    "\n",
    "# Print the class of the images\n",
    "print(' '.join('%s' % classes[labels[j]] for j in range(batch_size)))\n",
    "\n",
    "class Net(nn.Module):\n",
    "    '''Models a simple Convolutional Neural Network'''\n",
    "    def __init__(self):\n",
    "        '''Initialize the network'''\n",
    "        super(Net, self).__init__()\n",
    "        # 1 input image channel (grayscale), 6 output channels, 5x5 square convolution kernel\n",
    "        self.conv1 = nn.Conv2d(1, 6, 5)\n",
    "        # Max pooling over a (2, 2) window\n",
    "        self.pool = nn.MaxPool2d(2, 2)\n",
    "        self.conv2 = nn.Conv2d(6, 16, 5)\n",
    "        # Calculate the output size after convolution and pooling\n",
    "        # After conv1: size (28-5+1)=24 -> pool: 24/2=12\n",
    "        # After conv2: size (12-5+1)=8 -> pool: 8/2=4\n",
    "        self.fc1 = nn.Linear(16 * 4 * 4, 120)  # 4x4 from image dimension after pooling\n",
    "        self.fc2 = nn.Linear(120, 84)\n",
    "        self.fc3 = nn.Linear(84, 10)\n",
    "\n",
    "    def forward(self, x):\n",
    "        '''The forward propagation algorithm'''\n",
    "        x = self.pool(F.relu(self.conv1(x)))\n",
    "        x = self.pool(F.relu(self.conv2(x)))\n",
    "        x = x.view(-1, 16 * 4 * 4)  # Adjust based on the new output size\n",
    "        x = F.relu(self.fc1(x))\n",
    "        x = F.relu(self.fc2(x))\n",
    "        x = self.fc3(x)\n",
    "        return x\n",
    "\n",
    "# Create the network\n",
    "net = Net()\n",
    "\n",
    "# You can now proceed with the rest of your training code\n"
   ]
  },
  {
   "cell_type": "code",
   "execution_count": 6,
   "id": "30217438-f7cc-4d6a-9206-0078211e1564",
   "metadata": {},
   "outputs": [
    {
     "name": "stdout",
     "output_type": "stream",
     "text": [
      "Net(\n",
      "  (conv1): Conv2d(1, 6, kernel_size=(5, 5), stride=(1, 1))\n",
      "  (pool): MaxPool2d(kernel_size=2, stride=2, padding=0, dilation=1, ceil_mode=False)\n",
      "  (conv2): Conv2d(6, 16, kernel_size=(5, 5), stride=(1, 1))\n",
      "  (fc1): Linear(in_features=256, out_features=120, bias=True)\n",
      "  (fc2): Linear(in_features=120, out_features=84, bias=True)\n",
      "  (fc3): Linear(in_features=84, out_features=10, bias=True)\n",
      ")\n"
     ]
    }
   ],
   "source": [
    "net = Net().to(device)  # Move the model to the selected device\n",
    "print(net)\n",
    "\n",
    "# Loss and optimizer\n",
    "criterion = nn.CrossEntropyLoss()\n",
    "optimizer = optim.SGD(net.parameters(), lr=0.001, momentum=0.9)\n",
    "\n",
    "# Timing the training process\n",
    "start_time = time.time()\n"
   ]
  },
  {
   "cell_type": "markdown",
   "id": "136ad9df-1488-40a7-9c0a-7853aba7a848",
   "metadata": {},
   "source": [
    "## Training loop"
   ]
  },
  {
   "cell_type": "code",
   "execution_count": 7,
   "id": "53772c6a-367e-481f-9888-f517c5264341",
   "metadata": {},
   "outputs": [
    {
     "name": "stdout",
     "output_type": "stream",
     "text": [
      "[1,  2000] loss: 1.416\n",
      "[1,  4000] loss: 0.656\n",
      "[1,  6000] loss: 0.548\n",
      "[1,  8000] loss: 0.512\n",
      "[1, 10000] loss: 0.475\n",
      "[1, 12000] loss: 0.447\n",
      "[1, 14000] loss: 0.418\n",
      "[2,  2000] loss: 0.394\n",
      "[2,  4000] loss: 0.378\n",
      "[2,  6000] loss: 0.361\n",
      "[2,  8000] loss: 0.361\n",
      "[2, 10000] loss: 0.354\n",
      "[2, 12000] loss: 0.364\n",
      "[2, 14000] loss: 0.345\n"
     ]
    }
   ],
   "source": [
    "\n",
    "for epoch in range(2):  # Loop over the dataset multiple times\n",
    "    running_loss = 0.0\n",
    "    for i, data in enumerate(trainloader, 0):\n",
    "        # Get the inputs; data is a list of [inputs, labels]\n",
    "        inputs, labels = data\n",
    "        inputs, labels = inputs.to(device), labels.to(device)  # Move data to the selected device\n",
    "        # Zero the parameter gradients\n",
    "        optimizer.zero_grad()\n",
    "        # Forward + backward + optimize\n",
    "        outputs = net(inputs)\n",
    "        loss = criterion(outputs, labels)\n",
    "        loss.backward()\n",
    "        optimizer.step()\n",
    "        # Print statistics\n",
    "        running_loss += loss.item()\n",
    "        if i % 2000 == 1999:  # Print every 2000 minibatches\n",
    "            print('[%d, %5d] loss: %.3f' %\n",
    "                  (epoch + 1, i + 1, running_loss / 2000))\n",
    "            running_loss = 0.0\n"
   ]
  },
  {
   "cell_type": "markdown",
   "id": "bc205932-3708-4686-8fdd-1c482c1d3504",
   "metadata": {},
   "source": [
    "## Calculate training time"
   ]
  },
  {
   "cell_type": "code",
   "execution_count": 12,
   "id": "866f5ba9-a8de-48fc-96e6-df70e85cb14a",
   "metadata": {},
   "outputs": [
    {
     "name": "stdout",
     "output_type": "stream",
     "text": [
      "Finished Training\n",
      "Training time (seconds): 448.3223533630371\n"
     ]
    }
   ],
   "source": [
    "\n",
    "end_time = time.time()\n",
    "print('Finished Training')\n",
    "print('Training time (seconds):', end_time - start_time)\n",
    "\n",
    "# Test the network\n",
    "dataiter = iter(testloader)\n",
    "images, labels = next(dataiter)  # Corrected this line\n",
    "\n",
    "# Move test images to the selected device\n",
    "images, labels = images.to(device), labels.to(device)\n"
   ]
  },
  {
   "cell_type": "code",
   "execution_count": null,
   "id": "b561edfc-a887-44dc-a78f-019a14c73efd",
   "metadata": {},
   "outputs": [],
   "source": []
  }
 ],
 "metadata": {
  "kernelspec": {
   "display_name": "Python 3 (ipykernel)",
   "language": "python",
   "name": "python3"
  },
  "language_info": {
   "codemirror_mode": {
    "name": "ipython",
    "version": 3
   },
   "file_extension": ".py",
   "mimetype": "text/x-python",
   "name": "python",
   "nbconvert_exporter": "python",
   "pygments_lexer": "ipython3",
   "version": "3.10.13"
  }
 },
 "nbformat": 4,
 "nbformat_minor": 5
}
