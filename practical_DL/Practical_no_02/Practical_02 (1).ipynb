{
 "cells": [
  {
   "cell_type": "code",
   "execution_count": 6,
   "id": "cb483d3e-0c19-4d3e-91b2-6ceebec2f8f2",
   "metadata": {},
   "outputs": [],
   "source": [
    "import matplotlib.pyplot as plt\n",
    "import numpy as np\n",
    "import torch\n",
    "import torchvision\n",
    "import torchvision.transforms as transforms\n",
    "import torch.nn as nn\n",
    "import torch.nn.functional as F\n",
    "import torch.optim as optim\n",
    "\n"
   ]
  },
  {
   "cell_type": "markdown",
   "id": "8a9f16c9-9936-4801-833e-f2694b0b420c",
   "metadata": {},
   "source": [
    "## Check if GPU is available and use it"
   ]
  },
  {
   "cell_type": "code",
   "execution_count": 7,
   "id": "1f608ec4-742e-4e05-820a-8d84d0f0dd8f",
   "metadata": {},
   "outputs": [],
   "source": [
    "\n",
    "device = torch.device(\"cuda\" if torch.cuda.is_available() else \"cpu\")\n",
    "\n"
   ]
  },
  {
   "cell_type": "markdown",
   "id": "f4b55bd6-c3bf-4197-80a3-721860bf5775",
   "metadata": {},
   "source": [
    "## Transformations"
   ]
  },
  {
   "cell_type": "code",
   "execution_count": 8,
   "id": "4f7fc63d-b945-4779-9aef-57543af227b9",
   "metadata": {},
   "outputs": [],
   "source": [
    "# Transformations\n",
    "transform = transforms.Compose([\n",
    "    transforms.ToTensor(),\n",
    "    transforms.Normalize((0.5, 0.5, 0.5), (0.5, 0.5, 0.5))\n",
    "])\n",
    "\n",
    "\n"
   ]
  },
  {
   "cell_type": "markdown",
   "id": "7c4d4650-28ad-4f88-be07-262cfa95b9ca",
   "metadata": {},
   "source": [
    "# Set parameters"
   ]
  },
  {
   "cell_type": "code",
   "execution_count": 9,
   "id": "8ba2c11c-464f-433a-b488-d60f66ddc827",
   "metadata": {},
   "outputs": [],
   "source": [
    "\n",
    "batch_size = 4\n",
    "num_workers = 2\n",
    "\n"
   ]
  },
  {
   "cell_type": "markdown",
   "id": "554e09e6-f0af-47da-8f0c-de3ec16e2bc3",
   "metadata": {},
   "source": [
    "# Load training data and Load test data"
   ]
  },
  {
   "cell_type": "code",
   "execution_count": 10,
   "id": "7aa2be00-e006-4875-9184-ca74c03939b5",
   "metadata": {},
   "outputs": [
    {
     "name": "stdout",
     "output_type": "stream",
     "text": [
      "Files already downloaded and verified\n",
      "Files already downloaded and verified\n"
     ]
    }
   ],
   "source": [
    "\n",
    "trainset = torchvision.datasets.CIFAR10(root='./data', train=True, download=True, transform=transform)\n",
    "trainloader = torch.utils.data.DataLoader(trainset, batch_size=batch_size, shuffle=True, num_workers=num_workers)\n",
    "\n",
    "\n",
    "testset = torchvision.datasets.CIFAR10(root='./data', train=False, download=True, transform=transform)\n",
    "testloader = torch.utils.data.DataLoader(testset, batch_size=batch_size, shuffle=False, num_workers=num_workers)\n",
    "\n"
   ]
  },
  {
   "cell_type": "markdown",
   "id": "281ab6f0-61a3-4373-8b94-357ff39195d2",
   "metadata": {},
   "source": [
    "# Class names for CIFAR-10"
   ]
  },
  {
   "cell_type": "code",
   "execution_count": 11,
   "id": "80eae25d-f9b5-46fb-9470-b8365c974ede",
   "metadata": {},
   "outputs": [],
   "source": [
    "# Class names for CIFAR-10\n",
    "classes = ('plane', 'car', 'bird', 'cat', 'deer', 'dog', 'frog', 'horse', 'ship', 'truck')\n",
    "\n"
   ]
  },
  {
   "cell_type": "markdown",
   "id": "27942aa7-47cc-4db4-b3bf-a1d775511db6",
   "metadata": {},
   "source": [
    "# Function to show images"
   ]
  },
  {
   "cell_type": "code",
   "execution_count": 12,
   "id": "71a59543-3785-40a1-b2e3-07c6858ecb0a",
   "metadata": {},
   "outputs": [],
   "source": [
    "# Function to show images\n",
    "def imshow(img):\n",
    "    img = img / 2 + 0.5  # unnormalize\n",
    "    npimg = img.numpy()  \n",
    "    plt.imshow(np.transpose(npimg, (1, 2, 0)))\n",
    "    plt.show()\n",
    "\n",
    "# Get random training images\n",
    "dataiter = iter(trainloader)\n",
    "images, labels = next(dataiter)  # Use next() instead of .next()\n",
    "\n"
   ]
  },
  {
   "cell_type": "markdown",
   "id": "4604dfa4-9f0f-481a-848f-399861fd7a17",
   "metadata": {},
   "source": [
    "# Call function to show images and Define the CNN model"
   ]
  },
  {
   "cell_type": "code",
   "execution_count": 13,
   "id": "de032983-a615-4fb7-9959-b93939e13f41",
   "metadata": {
    "scrolled": true
   },
   "outputs": [
    {
     "data": {
      "image/png": "[encoded data removed]",
      "text/plain": [
       "<Figure size 640x480 with 1 Axes>"
      ]
     },
     "metadata": {},
     "output_type": "display_data"
    },
    {
     "name": "stdout",
     "output_type": "stream",
     "text": [
      "horse deer truck ship\n"
     ]
    }
   ],
   "source": [
    "\n",
    "imshow(torchvision.utils.make_grid(images))\n",
    "print(' '.join('%s' % classes[labels[j]] for j in range(batch_size)))\n",
    "\n",
    "\n",
    "class Net(nn.Module):\n",
    "    def __init__(self):\n",
    "        super(Net, self).__init__()\n",
    "        self.conv1 = nn.Conv2d(3, 6, 5)\n",
    "        self.pool = nn.MaxPool2d(2, 2)\n",
    "        self.conv2 = nn.Conv2d(6, 16, 5)\n",
    "        self.fc1 = nn.Linear(16 * 5 * 5, 120)\n",
    "        self.fc2 = nn.Linear(120, 84)\n",
    "        self.fc3 = nn.Linear(84, 10)\n",
    "\n",
    "    def forward(self, x):\n",
    "        x = self.pool(F.relu(self.conv1(x)))\n",
    "        x = self.pool(F.relu(self.conv2(x)))\n",
    "        x = x.view(-1, 16 * 5 * 5)\n",
    "        x = F.relu(self.fc1(x))\n",
    "        x = F.relu(self.fc2(x))\n",
    "        x = self.fc3(x)\n",
    "        return x\n",
    "\n"
   ]
  },
  {
   "cell_type": "markdown",
   "id": "a94bea31-0095-42d3-ba90-b9869678938f",
   "metadata": {},
   "source": [
    "# Instantiate the model and move it to the device"
   ]
  },
  {
   "cell_type": "code",
   "execution_count": 15,
   "id": "08112340-1a2e-4019-8e4f-59e8b524f848",
   "metadata": {},
   "outputs": [
    {
     "name": "stdout",
     "output_type": "stream",
     "text": [
      "Net(\n",
      "  (conv1): Conv2d(3, 6, kernel_size=(5, 5), stride=(1, 1))\n",
      "  (pool): MaxPool2d(kernel_size=2, stride=2, padding=0, dilation=1, ceil_mode=False)\n",
      "  (conv2): Conv2d(6, 16, kernel_size=(5, 5), stride=(1, 1))\n",
      "  (fc1): Linear(in_features=400, out_features=120, bias=True)\n",
      "  (fc2): Linear(in_features=120, out_features=84, bias=True)\n",
      "  (fc3): Linear(in_features=84, out_features=10, bias=True)\n",
      ")\n"
     ]
    }
   ],
   "source": [
    "\n",
    "net = Net().to(device)\n",
    "print(net)\n",
    "\n",
    "# Define loss function and optimizer\n",
    "criterion = nn.CrossEntropyLoss()\n",
    "optimizer = optim.SGD(net.parameters(), lr=0.001, momentum=0.9)\n",
    "\n"
   ]
  },
  {
   "cell_type": "markdown",
   "id": "784de80b-1101-4025-888a-8202a83f0ae0",
   "metadata": {},
   "source": [
    "# Start training"
   ]
  },
  {
   "cell_type": "code",
   "execution_count": 17,
   "id": "55bae3b3-90ab-43d7-9d51-661dbc1a78f3",
   "metadata": {},
   "outputs": [
    {
     "name": "stdout",
     "output_type": "stream",
     "text": [
      "[1,  2000] loss: 2.230\n",
      "[1,  4000] loss: 1.874\n",
      "[1,  6000] loss: 1.667\n",
      "[1,  8000] loss: 1.575\n",
      "[1, 10000] loss: 1.529\n",
      "[1, 12000] loss: 1.455\n",
      "[2,  2000] loss: 1.388\n",
      "[2,  4000] loss: 1.388\n",
      "[2,  6000] loss: 1.375\n",
      "[2,  8000] loss: 1.314\n",
      "[2, 10000] loss: 1.323\n",
      "[2, 12000] loss: 1.299\n",
      "Finished Training\n"
     ]
    }
   ],
   "source": [
    "\n",
    "for epoch in range(2):\n",
    "    running_loss = 0.0\n",
    "    for i, data in enumerate(trainloader, 0):\n",
    "        inputs, labels = data\n",
    "        inputs, labels = inputs.to(device), labels.to(device)\n",
    "\n",
    "        optimizer.zero_grad()\n",
    "        outputs = net(inputs)\n",
    "        loss = criterion(outputs, labels)\n",
    "        loss.backward()\n",
    "        optimizer.step()\n",
    "\n",
    "        running_loss += loss.item()\n",
    "        if i % 2000 == 1999:\n",
    "            print('[%d, %5d] loss: %.3f' %\n",
    "                  (epoch + 1, i + 1, running_loss / 2000))\n",
    "            running_loss = 0.0\n",
    "\n",
    "print('Finished Training')\n",
    "\n"
   ]
  },
  {
   "cell_type": "markdown",
   "id": "222f3133-8a46-4b99-995f-d21807993909",
   "metadata": {},
   "source": [
    "# Test the model"
   ]
  },
  {
   "cell_type": "code",
   "execution_count": 18,
   "id": "9fa0984c-fc6a-4182-9baf-08294f8de2b5",
   "metadata": {},
   "outputs": [
    {
     "data": {
      "image/png": "[encoded data removed]",
      "text/plain": [
       "<Figure size 640x480 with 1 Axes>"
      ]
     },
     "metadata": {},
     "output_type": "display_data"
    },
    {
     "name": "stdout",
     "output_type": "stream",
     "text": [
      "GroundTruth:  cat ship ship plane\n"
     ]
    }
   ],
   "source": [
    "# Test the model\n",
    "dataiter = iter(testloader)\n",
    "images, labels = next(dataiter)\n",
    "\n",
    "# Move images to CPU for plotting\n",
    "imshow(torchvision.utils.make_grid(images.cpu()))\n",
    "print('GroundTruth: ', ' '.join('%s' % classes[labels[j]] for j in range(4)))\n",
    "\n",
    "\n"
   ]
  }
 ],
 "metadata": {
  "kernelspec": {
   "display_name": "Python 3 (ipykernel)",
   "language": "python",
   "name": "python3"
  },
  "language_info": {
   "codemirror_mode": {
    "name": "ipython",
    "version": 3
   },
   "file_extension": ".py",
   "mimetype": "text/x-python",
   "name": "python",
   "nbconvert_exporter": "python",
   "pygments_lexer": "ipython3",
   "version": "3.10.13"
  }
 },
 "nbformat": 4,
 "nbformat_minor": 5
}
